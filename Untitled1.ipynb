{
 "cells": [
  {
   "cell_type": "code",
   "execution_count": 1,
   "id": "57f21d1c-9976-497d-b91e-b7d40aa8047f",
   "metadata": {},
   "outputs": [],
   "source": [
    "%matplotlib inline\n",
    "import matplotlib.pyplot as plt"
   ]
  },
  {
   "cell_type": "code",
   "execution_count": 24,
   "id": "ba39bd1d-f4e7-4c3d-98b1-8154be446f04",
   "metadata": {},
   "outputs": [],
   "source": [
    "import networkx as nx"
   ]
  },
  {
   "cell_type": "code",
   "execution_count": 3,
   "id": "2906053b-b14c-4811-88f8-a19fc9b59f25",
   "metadata": {},
   "outputs": [],
   "source": [
    "from torch_geometric.datasets import Planetoid"
   ]
  },
  {
   "cell_type": "code",
   "execution_count": 4,
   "id": "cd9af997-6997-4e28-8c4c-909cef5e5180",
   "metadata": {},
   "outputs": [],
   "source": [
    "cora = Planetoid(root=\"data\", name=\"cora\")\n",
    "from torch_geometric.utils import (\n",
    "    to_networkx,\n",
    "    from_networkx,\n",
    ")"
   ]
  },
  {
   "cell_type": "code",
   "execution_count": 31,
   "id": "598c9cbe-3b4b-49f4-82b4-040c56e8d9d3",
   "metadata": {},
   "outputs": [],
   "source": [
    "import functools"
   ]
  },
  {
   "cell_type": "code",
   "execution_count": 40,
   "id": "7d8aa8f7-a16a-4a70-be34-2b00603ed420",
   "metadata": {},
   "outputs": [],
   "source": [
    "import time"
   ]
  },
  {
   "cell_type": "code",
   "execution_count": 101,
   "id": "9e9a3410-b181-4c48-9c08-33d7c1023e06",
   "metadata": {},
   "outputs": [],
   "source": [
    "import numpy as np"
   ]
  },
  {
   "cell_type": "code",
   "execution_count": 6,
   "id": "e917f90a-63eb-4853-a17e-2df6307c95fe",
   "metadata": {},
   "outputs": [
    {
     "name": "stderr",
     "output_type": "stream",
     "text": [
      "/home/khang/miniconda3/envs/borf/lib/python3.9/site-packages/torch_geometric/data/in_memory_dataset.py:300: UserWarning: It is not recommended to directly access the internal storage format `data` of an 'InMemoryDataset'. If you are absolutely certain what you are doing, access the internal storage via `InMemoryDataset._data` instead to suppress this warning. Alternatively, you can access stacked individual attributes of every graph via `dataset.{attr_name}`.\n",
      "  warnings.warn(msg)\n"
     ]
    }
   ],
   "source": [
    "G = to_networkx(cora.data)"
   ]
  },
  {
   "cell_type": "code",
   "execution_count": 7,
   "id": "e682bcf8-cb42-4b35-9896-98fd477d7f1d",
   "metadata": {},
   "outputs": [
    {
     "data": {
      "text/plain": [
       "<networkx.classes.digraph.DiGraph at 0x72defe058160>"
      ]
     },
     "execution_count": 7,
     "metadata": {},
     "output_type": "execute_result"
    }
   ],
   "source": [
    "G"
   ]
  },
  {
   "cell_type": "code",
   "execution_count": 8,
   "id": "e24031ca-7713-4279-b312-5eccfc1d4b4f",
   "metadata": {},
   "outputs": [
    {
     "name": "stdout",
     "output_type": "stream",
     "text": [
      "DiGraph with 2708 nodes and 10556 edges\n"
     ]
    }
   ],
   "source": [
    "print(G)"
   ]
  },
  {
   "cell_type": "code",
   "execution_count": 16,
   "id": "e72712ec-727b-4a01-9b2e-ca4a445d6f61",
   "metadata": {},
   "outputs": [
    {
     "data": {
      "text/plain": [
       "'DiGraph with 2708 nodes and 10556 edges'"
      ]
     },
     "execution_count": 16,
     "metadata": {},
     "output_type": "execute_result"
    }
   ],
   "source": [
    "G.__str__()"
   ]
  },
  {
   "cell_type": "code",
   "execution_count": 19,
   "id": "188b283a-3263-40bb-a714-bba3ffa634bc",
   "metadata": {},
   "outputs": [
    {
     "data": {
      "text/plain": [
       "(0, 633)"
      ]
     },
     "execution_count": 19,
     "metadata": {},
     "output_type": "execute_result"
    }
   ],
   "source": [
    "list(G.edges)[0]"
   ]
  },
  {
   "cell_type": "code",
   "execution_count": 21,
   "id": "1844688c-5740-4bdb-989b-63518f157974",
   "metadata": {},
   "outputs": [
    {
     "ename": "LookupError",
     "evalue": "There is no edge between 0 and 1",
     "output_type": "error",
     "traceback": [
      "\u001b[0;31m---------------------------------------------------------------------------\u001b[0m",
      "\u001b[0;31mLookupError\u001b[0m                               Traceback (most recent call last)",
      "Cell \u001b[0;32mIn[21], line 3\u001b[0m\n\u001b[1;32m      1\u001b[0m edge \u001b[38;5;241m=\u001b[39m (\u001b[38;5;241m0\u001b[39m,\u001b[38;5;241m1\u001b[39m)\n\u001b[1;32m      2\u001b[0m \u001b[38;5;28;01mif\u001b[39;00m edge \u001b[38;5;129;01mnot\u001b[39;00m \u001b[38;5;129;01min\u001b[39;00m \u001b[38;5;28mlist\u001b[39m(G\u001b[38;5;241m.\u001b[39medges):\n\u001b[0;32m----> 3\u001b[0m     \u001b[38;5;28;01mraise\u001b[39;00m \u001b[38;5;167;01mLookupError\u001b[39;00m(\u001b[38;5;124mf\u001b[39m\u001b[38;5;124m'\u001b[39m\u001b[38;5;124mThere is no edge between \u001b[39m\u001b[38;5;132;01m{\u001b[39;00medge[\u001b[38;5;241m0\u001b[39m]\u001b[38;5;132;01m}\u001b[39;00m\u001b[38;5;124m and \u001b[39m\u001b[38;5;132;01m{\u001b[39;00medge[\u001b[38;5;241m1\u001b[39m]\u001b[38;5;132;01m}\u001b[39;00m\u001b[38;5;124m'\u001b[39m)\n",
      "\u001b[0;31mLookupError\u001b[0m: There is no edge between 0 and 1"
     ]
    }
   ],
   "source": [
    "edge = (0,1)\n",
    "if edge not in list(G.edges):\n",
    "    raise LookupError(f'There is no edge between {edge[0]} and {edge[1]}')"
   ]
  },
  {
   "cell_type": "code",
   "execution_count": 27,
   "id": "92c34471-525e-4eef-b30b-2a34eccaf9e0",
   "metadata": {},
   "outputs": [
    {
     "data": {
      "text/plain": [
       "[0, 2582, 1166, 1986, 2, 1]"
      ]
     },
     "execution_count": 27,
     "metadata": {},
     "output_type": "execute_result"
    }
   ],
   "source": [
    "nx.dijkstra_path(G, 0, 1)"
   ]
  },
  {
   "cell_type": "code",
   "execution_count": null,
   "id": "a5d3d327-1d44-4592-9d6c-d4b1402fe85d",
   "metadata": {},
   "outputs": [],
   "source": [
    "@memoized\n",
    "def get_dijkstra_path(self, u, v):\n",
    "    return single_source_dijkstra (self.graph, u, v)"
   ]
  },
  {
   "cell_type": "code",
   "execution_count": 37,
   "id": "92fe0e7d-c439-4c15-91fc-79dba6effc42",
   "metadata": {},
   "outputs": [],
   "source": [
    "class NXGraph():\n",
    "    ''' Reconstruct PyG graphs as NetworkX graphs '''\n",
    "    def __init__(self, graph, device = None):\n",
    "        \n",
    "        # if(device is None):\n",
    "        #   self.device = torch.device('cuda') if torch.cuda.is_available() else torch.device('cpu')\n",
    "        # else:\n",
    "        #   self.device = device\n",
    "\n",
    "        self.graph = to_networkx(graph.data)\n",
    "        self.edges = list(self.graph.edges)\n",
    "\n",
    "    @functools.cache\n",
    "    def get_dijkstra_path(self, u, v):\n",
    "        return nx.single_source_dijkstra (self.graph, u, v)\n",
    "        \n",
    "\n",
    "    def sobolev_transport(self, edge):\n",
    "        if edge not in self.edges:\n",
    "            raise LookupError(f'There is no edge between nodes {edge[0]} and {edge[1]}')"
   ]
  },
  {
   "cell_type": "code",
   "execution_count": 38,
   "id": "50164f78-4244-4ba7-9c57-48a09c14935e",
   "metadata": {},
   "outputs": [
    {
     "name": "stderr",
     "output_type": "stream",
     "text": [
      "/home/khang/miniconda3/envs/borf/lib/python3.9/site-packages/torch_geometric/data/in_memory_dataset.py:300: UserWarning: It is not recommended to directly access the internal storage format `data` of an 'InMemoryDataset'. If you are absolutely certain what you are doing, access the internal storage via `InMemoryDataset._data` instead to suppress this warning. Alternatively, you can access stacked individual attributes of every graph via `dataset.{attr_name}`.\n",
      "  warnings.warn(msg)\n"
     ]
    }
   ],
   "source": [
    "cora_nx = NXGraph(cora)"
   ]
  },
  {
   "cell_type": "code",
   "execution_count": 55,
   "id": "f842cafe-85d8-4e5f-97ad-1728d8905c57",
   "metadata": {},
   "outputs": [
    {
     "data": {
      "text/plain": [
       "(0, [0])"
      ]
     },
     "execution_count": 55,
     "metadata": {},
     "output_type": "execute_result"
    }
   ],
   "source": [
    "cora_nx.get_dijkstra_path(0,0)"
   ]
  },
  {
   "cell_type": "code",
   "execution_count": 73,
   "id": "adaacfca-b6fe-4e5f-942c-25ac078c15e5",
   "metadata": {},
   "outputs": [
    {
     "name": "stdout",
     "output_type": "stream",
     "text": [
      "(7, [0, 633, 1701, 1846, 1013, 1841, 2056, 100])\n",
      "(7, [0, 633, 1701, 1846, 1013, 1841, 2056, 100])\n",
      "0.015587329864501953 4.9591064453125e-05\n"
     ]
    }
   ],
   "source": [
    "t0 = time.time()\n",
    "print(cora_nx.get_dijkstra_path(0,100))\n",
    "t1 = time.time()\n",
    "print(cora_nx.get_dijkstra_path(0,100))\n",
    "t2 = time.time()\n",
    "print(t1-t0, t2-t1)"
   ]
  },
  {
   "cell_type": "code",
   "execution_count": 45,
   "id": "b821d0d8-6faa-46c1-babf-848019e06fbe",
   "metadata": {},
   "outputs": [
    {
     "data": {
      "text/plain": [
       "True"
      ]
     },
     "execution_count": 45,
     "metadata": {},
     "output_type": "execute_result"
    }
   ],
   "source": [
    "(633, 0) in cora_nx.edges"
   ]
  },
  {
   "cell_type": "code",
   "execution_count": 53,
   "id": "270be3f8-51c4-4c95-99c8-5991e480391e",
   "metadata": {},
   "outputs": [],
   "source": [
    "node_set = list(set(cora_nx.graph.neighbors(0)) | set(cora_nx.graph.neighbors(633)) | {0, 633})"
   ]
  },
  {
   "cell_type": "code",
   "execution_count": 54,
   "id": "3bf52035-a938-4091-a547-545eb9e34ea1",
   "metadata": {},
   "outputs": [
    {
     "data": {
      "text/plain": [
       "[0, 1701, 1862, 2582, 633, 1866]"
      ]
     },
     "execution_count": 54,
     "metadata": {},
     "output_type": "execute_result"
    }
   ],
   "source": [
    "node_set"
   ]
  },
  {
   "cell_type": "code",
   "execution_count": 137,
   "id": "c29fd634-bb66-44e4-9383-194f4c0a5218",
   "metadata": {},
   "outputs": [],
   "source": [
    "u = 0\n",
    "v = 633\n",
    "u_neighbors = list(cora_nx.graph.neighbors(u)) + [u]\n",
    "v_neighbors = list(cora_nx.graph.neighbors(v)) + [v]\n",
    "support = list(set(u_neighbors + v_neighbors))"
   ]
  },
  {
   "cell_type": "code",
   "execution_count": 138,
   "id": "e18945f8-f48c-40c4-84c1-0906953a17d5",
   "metadata": {},
   "outputs": [],
   "source": [
    "path_dict = {}\n",
    "for neighbor in support:\n",
    "    __, path_vertex = cora_nx.get_dijkstra_path(u, neighbor)\n",
    "    path_edge = [(path_vertex[i], path_vertex[i+1]) for i in range(len(path_vertex)-1)]\n",
    "    path_dict[neighbor] = path_edge"
   ]
  },
  {
   "cell_type": "code",
   "execution_count": 139,
   "id": "6fe3f901-cc05-4e20-ace7-2e3914be64e0",
   "metadata": {},
   "outputs": [
    {
     "data": {
      "text/plain": [
       "{0: [],\n",
       " 1701: [(0, 633), (633, 1701)],\n",
       " 1862: [(0, 1862)],\n",
       " 1866: [(0, 633), (633, 1866)],\n",
       " 2582: [(0, 2582)],\n",
       " 633: [(0, 633)]}"
      ]
     },
     "execution_count": 139,
     "metadata": {},
     "output_type": "execute_result"
    }
   ],
   "source": [
    "path_dict"
   ]
  },
  {
   "cell_type": "code",
   "execution_count": 140,
   "id": "52082028-493a-4591-97d1-95ebb2e14cc1",
   "metadata": {},
   "outputs": [
    {
     "data": {
      "text/plain": [
       "dict_items([(0, []), (1701, [(0, 633), (633, 1701)]), (1862, [(0, 1862)]), (1866, [(0, 633), (633, 1866)]), (2582, [(0, 2582)]), (633, [(0, 633)])])"
      ]
     },
     "execution_count": 140,
     "metadata": {},
     "output_type": "execute_result"
    }
   ],
   "source": [
    "path_dict.items()"
   ]
  },
  {
   "cell_type": "code",
   "execution_count": 141,
   "id": "275330a0-d686-4f19-9e63-4fcc333adee7",
   "metadata": {},
   "outputs": [],
   "source": [
    "edge_set = set()"
   ]
  },
  {
   "cell_type": "code",
   "execution_count": 142,
   "id": "41f42f47-b829-406b-beb1-1d21b5c58cba",
   "metadata": {},
   "outputs": [],
   "source": [
    "edge_set.add(2)"
   ]
  },
  {
   "cell_type": "code",
   "execution_count": 143,
   "id": "be0433f3-1833-4327-8a9e-d7a2ef11c985",
   "metadata": {},
   "outputs": [],
   "source": [
    "edge_set.update([5,6])"
   ]
  },
  {
   "cell_type": "code",
   "execution_count": 144,
   "id": "5a016610-281c-46c9-a295-bc68069077e7",
   "metadata": {},
   "outputs": [],
   "source": [
    "for neighbor in support:\n",
    "    __, path_vertex = cora_nx.get_dijkstra_path(u, neighbor)\n",
    "    path_edge = [(path_vertex[i], path_vertex[i+1]) for i in range(len(path_vertex)-1)]\n",
    "    path_dict[neighbor] = path_edge\n",
    "    edge_set.update(path_edge)"
   ]
  },
  {
   "cell_type": "code",
   "execution_count": 145,
   "id": "956d0795-7a72-4e00-9a65-0a898a4998ff",
   "metadata": {},
   "outputs": [
    {
     "data": {
      "text/plain": [
       "{(0, 1862), (0, 2582), (0, 633), (633, 1701), (633, 1866), 2, 5, 6}"
      ]
     },
     "execution_count": 145,
     "metadata": {},
     "output_type": "execute_result"
    }
   ],
   "source": [
    "edge_set"
   ]
  },
  {
   "cell_type": "code",
   "execution_count": 146,
   "id": "bacf37a3-ca47-42d8-9848-b2145295bfc3",
   "metadata": {},
   "outputs": [
    {
     "data": {
      "text/plain": [
       "8"
      ]
     },
     "execution_count": 146,
     "metadata": {},
     "output_type": "execute_result"
    }
   ],
   "source": [
    "len(edge_set)"
   ]
  },
  {
   "cell_type": "code",
   "execution_count": 147,
   "id": "b026bfcf-770b-4c2a-afcf-176c724a66ac",
   "metadata": {},
   "outputs": [],
   "source": [
    "edge_list = list(edge_set)"
   ]
  },
  {
   "cell_type": "code",
   "execution_count": 148,
   "id": "8086e917-40f1-4725-92c2-b172d14c063c",
   "metadata": {},
   "outputs": [],
   "source": [
    "h = np.zeros((len(support), len(edge_list)))\n",
    "for node in support:\n",
    "    for edge in path_dict[node]: \n",
    "        # print(node, edge, support.index(node), edge_list.index(edge))\n",
    "        h[support.index(node)][edge_list.index(edge)] = 1"
   ]
  },
  {
   "cell_type": "code",
   "execution_count": 149,
   "id": "59736311-a2b1-45e8-bd6f-77b2744c8aae",
   "metadata": {},
   "outputs": [
    {
     "data": {
      "text/plain": [
       "array([0., 0., 0., 0., 1., 1., 0., 0.])"
      ]
     },
     "execution_count": 149,
     "metadata": {},
     "output_type": "execute_result"
    }
   ],
   "source": [
    "h[1]"
   ]
  },
  {
   "cell_type": "code",
   "execution_count": 150,
   "id": "95ee3fdc-e288-497b-9afa-d3f4c5a91ae0",
   "metadata": {},
   "outputs": [
    {
     "data": {
      "text/plain": [
       "array([0., 0., 0., 0., 1., 1., 0., 0.])"
      ]
     },
     "execution_count": 150,
     "metadata": {},
     "output_type": "execute_result"
    }
   ],
   "source": [
    "h[1]"
   ]
  },
  {
   "cell_type": "code",
   "execution_count": 151,
   "id": "e5fe6c63-4ca8-4907-88b4-2864d6959a31",
   "metadata": {},
   "outputs": [
    {
     "name": "stdout",
     "output_type": "stream",
     "text": [
      "0 633 [633, 1862, 2582, 0] [0, 1701, 1866, 633]\n"
     ]
    }
   ],
   "source": [
    "print(u, v, u_neighbors, v_neighbors)"
   ]
  },
  {
   "cell_type": "code",
   "execution_count": 152,
   "id": "87e60263-542f-4e85-bd39-cfc6ac506ad8",
   "metadata": {},
   "outputs": [
    {
     "data": {
      "text/plain": [
       "[0, 1701, 1862, 1866, 2582, 633]"
      ]
     },
     "execution_count": 152,
     "metadata": {},
     "output_type": "execute_result"
    }
   ],
   "source": [
    "support"
   ]
  },
  {
   "cell_type": "code",
   "execution_count": 153,
   "id": "ed34eb6d-2778-4ec8-b9b4-971423730791",
   "metadata": {},
   "outputs": [
    {
     "data": {
      "text/plain": [
       "[2, 5, 6, (0, 2582), (633, 1701), (0, 633), (633, 1866), (0, 1862)]"
      ]
     },
     "execution_count": 153,
     "metadata": {},
     "output_type": "execute_result"
    }
   ],
   "source": [
    "edge_list"
   ]
  },
  {
   "cell_type": "code",
   "execution_count": 154,
   "id": "4fac8b4f-23cf-444f-a2a9-a21159b70862",
   "metadata": {},
   "outputs": [],
   "source": [
    "test_mat = np.mat(np.random.rand(3,3)).T"
   ]
  },
  {
   "cell_type": "code",
   "execution_count": 155,
   "id": "963dfa3a-4f41-4fb8-b703-200df7c45c35",
   "metadata": {},
   "outputs": [
    {
     "data": {
      "text/plain": [
       "matrix([[0.52078279, 0.23332214, 0.49137933],\n",
       "        [0.14930646, 0.96518004, 0.41131546],\n",
       "        [0.0855756 , 0.3823198 , 0.65208259]])"
      ]
     },
     "execution_count": 155,
     "metadata": {},
     "output_type": "execute_result"
    }
   ],
   "source": [
    "test_mat"
   ]
  },
  {
   "cell_type": "code",
   "execution_count": 156,
   "id": "54d75270-4c09-4f1e-9ca8-ed87166548f7",
   "metadata": {},
   "outputs": [
    {
     "data": {
      "text/plain": [
       "matrix([[0.52078279, 0.23332214, 0.49137933]])"
      ]
     },
     "execution_count": 156,
     "metadata": {},
     "output_type": "execute_result"
    }
   ],
   "source": [
    "test_mat[0][0]"
   ]
  },
  {
   "cell_type": "code",
   "execution_count": 163,
   "id": "e7f5a799-17fb-43f6-916a-05b9c5a61094",
   "metadata": {},
   "outputs": [],
   "source": [
    "deg_u = 1/len(u_neighbors)\n",
    "deg_v = 1/len(v_neighbors)\n",
    "measure_u = np.zeros((len(support)))\n",
    "measure_v = np.zeros((len(support)))\n",
    "for node in support:\n",
    "    if node in u_neighbors:\n",
    "        measure_u[support.index(node)] = deg_u\n",
    "    if node in v_neighbors:\n",
    "        measure_v[support.index(node)] = deg_v\n"
   ]
  },
  {
   "cell_type": "code",
   "execution_count": 164,
   "id": "327f6a6b-fdba-45bf-980d-428b24c94fda",
   "metadata": {},
   "outputs": [
    {
     "data": {
      "text/plain": [
       "array([0.25, 0.  , 0.25, 0.  , 0.25, 0.25])"
      ]
     },
     "execution_count": 164,
     "metadata": {},
     "output_type": "execute_result"
    }
   ],
   "source": [
    "measure_u"
   ]
  },
  {
   "cell_type": "code",
   "execution_count": 165,
   "id": "28f0f403-8b76-4c3e-8697-7fefff97dc90",
   "metadata": {},
   "outputs": [
    {
     "name": "stdout",
     "output_type": "stream",
     "text": [
      "(6, 8) (6,)\n"
     ]
    }
   ],
   "source": [
    "print(h.shape, measure_u.shape)"
   ]
  },
  {
   "cell_type": "code",
   "execution_count": 167,
   "id": "2c2cafbc-ae26-4b96-91eb-4beed4114a7a",
   "metadata": {},
   "outputs": [
    {
     "data": {
      "text/plain": [
       "array([0.  , 0.  , 0.  , 0.25, 0.  , 0.25, 0.  , 0.25])"
      ]
     },
     "execution_count": 167,
     "metadata": {},
     "output_type": "execute_result"
    }
   ],
   "source": [
    "np.matmul(h.T, measure_u)"
   ]
  },
  {
   "cell_type": "code",
   "execution_count": 168,
   "id": "7108d7be-d161-41a2-a61c-4a00530f3bae",
   "metadata": {},
   "outputs": [
    {
     "data": {
      "text/plain": [
       "array([0.  , 0.  , 0.  , 0.  , 0.25, 0.75, 0.25, 0.  ])"
      ]
     },
     "execution_count": 168,
     "metadata": {},
     "output_type": "execute_result"
    }
   ],
   "source": [
    "np.matmul(h.T, measure_v)"
   ]
  },
  {
   "cell_type": "code",
   "execution_count": 183,
   "id": "9ac4d23f-afe1-476c-ba10-642acb0dcb0e",
   "metadata": {},
   "outputs": [],
   "source": [
    "class NXGraph():\n",
    "    ''' Reconstruct PyG graphs as NetworkX graphs '''\n",
    "    def __init__(self, graph, device = None):\n",
    "        \n",
    "        # if(device is None):\n",
    "        #   self.device = torch.device('cuda') if torch.cuda.is_available() else torch.device('cpu')\n",
    "        # else:\n",
    "        #   self.device = device\n",
    "        \n",
    "        self.graph = to_networkx(graph.data)\n",
    "        self.edges = list(self.graph.edges)\n",
    "\n",
    "    @functools.cache\n",
    "    def get_dijkstra_path(self, u, v):\n",
    "        return nx.single_source_dijkstra(self.graph, u, v)\n",
    "        \n",
    "\n",
    "    def sobolev_transport_1_hop(self, u, v):\n",
    "        if (u,v) not in self.edges:\n",
    "            raise LookupError(f'There is no edge between nodes {edge[0]} and {edge[1]}')\n",
    "\n",
    "        # Define neighborhoods and support\n",
    "        u_neighbors = list(self.graph.neighbors(u)) + [u]\n",
    "        v_neighbors = list(self.graph.neighbors(v)) + [v]\n",
    "        support = list(set(u_neighbors + v_neighbors))\n",
    "\n",
    "        # Calculate shortest paths\n",
    "        path_dict = {}\n",
    "        edge_set = set()\n",
    "        for neighbor in support:\n",
    "            __, path_vertex = self.get_dijkstra_path(u, neighbor)\n",
    "            path_edge = [(path_vertex[i], path_vertex[i+1]) for i in range(len(path_vertex)-1)]\n",
    "            path_dict[neighbor] = path_edge\n",
    "            edge_set.update(path_edge)\n",
    "        edge_list = list(edge_set)\n",
    "\n",
    "        # Define the computational matrix h\n",
    "        h = np.zeros((len(support), len(edge_list)))\n",
    "        for node in support:\n",
    "            for edge in path_dict[node]: \n",
    "                h[support.index(node)][edge_list.index(edge)] = 1\n",
    "\n",
    "        # Define the measure\n",
    "        deg_u = 1/len(u_neighbors)\n",
    "        dev_v = 1/len(v_neighbors)\n",
    "        measure_u = np.zeros((len(support), 1))\n",
    "        measure_v = np.zeros((len(support), 1))\n",
    "        for node in support:\n",
    "            if node in u_neighbors:\n",
    "                measure_u[support.index(node)] = deg_u\n",
    "            if node in v_neighbors:\n",
    "                measure_v[support.index(node)] = deg_v\n",
    "\n",
    "        H_u = np.matmul(h.T, measure_u)\n",
    "        H_v = np.matmul(h.T, measure_v)\n",
    "\n",
    "        return np.linalg.norm((H_u - H_v), ord=1)"
   ]
  },
  {
   "cell_type": "code",
   "execution_count": 184,
   "id": "d24faed6-c89c-4784-9f26-851db78d3922",
   "metadata": {},
   "outputs": [],
   "source": [
    "G = NXGraph(cora)"
   ]
  },
  {
   "cell_type": "code",
   "execution_count": 185,
   "id": "aad9e7f9-515a-4745-806e-adcf9e5dc9a2",
   "metadata": {},
   "outputs": [
    {
     "name": "stdout",
     "output_type": "stream",
     "text": [
      "[[0.  ]\n",
      " [0.25]\n",
      " [0.25]\n",
      " [0.  ]\n",
      " [0.25]] [[0.25]\n",
      " [0.75]\n",
      " [0.  ]\n",
      " [0.25]\n",
      " [0.  ]]\n"
     ]
    },
    {
     "data": {
      "text/plain": [
       "1.5"
      ]
     },
     "execution_count": 185,
     "metadata": {},
     "output_type": "execute_result"
    }
   ],
   "source": [
    "G.sobolev_transport_1_hop(0,633)"
   ]
  },
  {
   "cell_type": "code",
   "execution_count": null,
   "id": "f26d27a9-556b-43df-9d81-f2cead3036af",
   "metadata": {},
   "outputs": [],
   "source": []
  }
 ],
 "metadata": {
  "kernelspec": {
   "display_name": "Python 3 (ipykernel)",
   "language": "python",
   "name": "python3"
  },
  "language_info": {
   "codemirror_mode": {
    "name": "ipython",
    "version": 3
   },
   "file_extension": ".py",
   "mimetype": "text/x-python",
   "name": "python",
   "nbconvert_exporter": "python",
   "pygments_lexer": "ipython3",
   "version": "3.9.13"
  }
 },
 "nbformat": 4,
 "nbformat_minor": 5
}
