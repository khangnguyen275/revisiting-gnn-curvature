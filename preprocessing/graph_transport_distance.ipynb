{
 "cells": [
  {
   "cell_type": "markdown",
   "metadata": {
    "id": "wM0xNr_IxsZJ"
   },
   "source": [
    "# Codes"
   ]
  },
  {
   "cell_type": "code",
   "execution_count": 1,
   "metadata": {
    "colab": {
     "base_uri": "https://localhost:8080/"
    },
    "id": "RYzhdZ82zENK",
    "outputId": "46bcf8ef-e7f3-4261-a803-9bb28ee70dee"
   },
   "outputs": [
    {
     "name": "stdout",
     "output_type": "stream",
     "text": [
      "Requirement already satisfied: torch-geometric in /home/khang/miniconda3/envs/borf/lib/python3.9/site-packages (2.5.1)\n",
      "Requirement already satisfied: psutil>=5.8.0 in /home/khang/miniconda3/envs/borf/lib/python3.9/site-packages (from torch-geometric) (5.9.0)\n",
      "Requirement already satisfied: numpy in /home/khang/miniconda3/envs/borf/lib/python3.9/site-packages (from torch-geometric) (1.23.1)\n",
      "Requirement already satisfied: scikit-learn in /home/khang/miniconda3/envs/borf/lib/python3.9/site-packages (from torch-geometric) (1.3.0)\n",
      "Requirement already satisfied: aiohttp in /home/khang/miniconda3/envs/borf/lib/python3.9/site-packages (from torch-geometric) (3.9.3)\n",
      "Requirement already satisfied: requests in /home/khang/miniconda3/envs/borf/lib/python3.9/site-packages (from torch-geometric) (2.28.1)\n",
      "Requirement already satisfied: scipy in /home/khang/miniconda3/envs/borf/lib/python3.9/site-packages (from torch-geometric) (1.12.0)\n",
      "Requirement already satisfied: pyparsing in /home/khang/miniconda3/envs/borf/lib/python3.9/site-packages (from torch-geometric) (3.0.9)\n",
      "Requirement already satisfied: tqdm in /home/khang/miniconda3/envs/borf/lib/python3.9/site-packages (from torch-geometric) (4.65.0)\n",
      "Requirement already satisfied: fsspec in /home/khang/miniconda3/envs/borf/lib/python3.9/site-packages (from torch-geometric) (2023.10.0)\n",
      "Requirement already satisfied: jinja2 in /home/khang/miniconda3/envs/borf/lib/python3.9/site-packages (from torch-geometric) (3.1.3)\n",
      "Requirement already satisfied: aiosignal>=1.1.2 in /home/khang/miniconda3/envs/borf/lib/python3.9/site-packages (from aiohttp->torch-geometric) (1.2.0)\n",
      "Requirement already satisfied: async-timeout<5.0,>=4.0 in /home/khang/miniconda3/envs/borf/lib/python3.9/site-packages (from aiohttp->torch-geometric) (4.0.3)\n",
      "Requirement already satisfied: attrs>=17.3.0 in /home/khang/miniconda3/envs/borf/lib/python3.9/site-packages (from aiohttp->torch-geometric) (23.1.0)\n",
      "Requirement already satisfied: yarl<2.0,>=1.0 in /home/khang/miniconda3/envs/borf/lib/python3.9/site-packages (from aiohttp->torch-geometric) (1.9.3)\n",
      "Requirement already satisfied: frozenlist>=1.1.1 in /home/khang/miniconda3/envs/borf/lib/python3.9/site-packages (from aiohttp->torch-geometric) (1.4.0)\n",
      "Requirement already satisfied: multidict<7.0,>=4.5 in /home/khang/miniconda3/envs/borf/lib/python3.9/site-packages (from aiohttp->torch-geometric) (6.0.4)\n",
      "Requirement already satisfied: MarkupSafe>=2.0 in /home/khang/miniconda3/envs/borf/lib/python3.9/site-packages (from jinja2->torch-geometric) (2.1.3)\n",
      "Requirement already satisfied: certifi>=2017.4.17 in /home/khang/miniconda3/envs/borf/lib/python3.9/site-packages (from requests->torch-geometric) (2024.2.2)\n",
      "Requirement already satisfied: urllib3<1.27,>=1.21.1 in /home/khang/miniconda3/envs/borf/lib/python3.9/site-packages (from requests->torch-geometric) (1.26.11)\n",
      "Requirement already satisfied: idna<4,>=2.5 in /home/khang/miniconda3/envs/borf/lib/python3.9/site-packages (from requests->torch-geometric) (3.3)\n",
      "Requirement already satisfied: charset-normalizer<3,>=2 in /home/khang/miniconda3/envs/borf/lib/python3.9/site-packages (from requests->torch-geometric) (2.1.1)\n",
      "Requirement already satisfied: joblib>=1.1.1 in /home/khang/miniconda3/envs/borf/lib/python3.9/site-packages (from scikit-learn->torch-geometric) (1.2.0)\n",
      "Requirement already satisfied: threadpoolctl>=2.0.0 in /home/khang/miniconda3/envs/borf/lib/python3.9/site-packages (from scikit-learn->torch-geometric) (2.2.0)\n",
      "Requirement already satisfied: POT in /home/khang/miniconda3/envs/borf/lib/python3.9/site-packages (0.9.3)\n",
      "Requirement already satisfied: scipy>=1.6 in /home/khang/miniconda3/envs/borf/lib/python3.9/site-packages (from POT) (1.12.0)\n",
      "Requirement already satisfied: numpy>=1.16 in /home/khang/miniconda3/envs/borf/lib/python3.9/site-packages (from POT) (1.23.1)\n"
     ]
    }
   ],
   "source": [
    "!pip install torch-geometric\n",
    "!pip install POT"
   ]
  },
  {
   "cell_type": "code",
   "execution_count": 1,
   "metadata": {
    "id": "oeoAvDhexQXE"
   },
   "outputs": [],
   "source": [
    "import torch\n",
    "import numpy as np\n",
    "import networkx as nx\n",
    "import functools\n",
    "from torch_geometric.utils import (\n",
    "    to_networkx,\n",
    "    from_networkx,\n",
    ")\n",
    "import ot"
   ]
  },
  {
   "cell_type": "code",
   "execution_count": 2,
   "metadata": {
    "id": "ZOTjBYSRxfCn"
   },
   "outputs": [],
   "source": [
    "class CalculationGraph(nx.Graph):\n",
    "    '''Graph class inherited from the NetworkX Graph class with extra methods for calculating curvature'''\n",
    "\n",
    "    def visualize_edge(self, edge):\n",
    "        # Get the local neighborhood\n",
    "        u, v = edge\n",
    "        local_neighbors = set()\n",
    "        local_neighbors = local_neighbors | set(self.neighbors(u)) | set(self.neighbors(v))\n",
    "\n",
    "        # Add points that form a pentagon with regard to the edge\n",
    "        pent_nodes = set()\n",
    "        seen_nodes = local_neighbors.copy()\n",
    "        for p in self.neighbors(u):\n",
    "            for q in self.neighbors(p):\n",
    "                if q in seen_nodes: \n",
    "                    continue\n",
    "                seen_nodes.add(q)\n",
    "                flag = False\n",
    "                for w in self.neighbors(v):\n",
    "                    if (q,w) in self.edges and w != p:\n",
    "                        flag = True\n",
    "                        continue\n",
    "                if flag:\n",
    "                    pent_nodes.add(q)\n",
    "        \n",
    "        # Draw the induced subgraph\n",
    "        local_neighborhood = local_neighbors | pent_nodes\n",
    "        labels = {}\n",
    "        for node in local_neighborhood:\n",
    "            labels[node] = ''\n",
    "        labels[u] = u\n",
    "        labels[v] = v\n",
    "        local_neighborhood = self.subgraph(local_neighborhood)        \n",
    "        nx.draw_networkx(local_neighborhood, labels = labels)\n",
    "    \n",
    "    @functools.cache\n",
    "    def get_dijkstra_path(self, u, v):\n",
    "        return nx.single_source_dijkstra(self, u, v)\n",
    "\n",
    "    def sobolev_transport_1_hop(self, u, v):\n",
    "        if (u,v) not in self.edges:\n",
    "            raise LookupError(f'There is no edge between nodes {edge[0]} and {edge[1]}')\n",
    "\n",
    "        u_neighbors = list(self.neighbors(u)) + [u]\n",
    "        v_neighbors = list(self.neighbors(v)) + [v]\n",
    "        support = list(set(u_neighbors + v_neighbors))\n",
    "\n",
    "        # Calculate shortest paths\n",
    "        path_dict = {}\n",
    "        edge_set = set()\n",
    "        for neighbor in support:\n",
    "            __, path_vertex = self.get_dijkstra_path(u, neighbor)\n",
    "            path_edge = [(path_vertex[i], path_vertex[i+1]) for i in range(len(path_vertex)-1)]\n",
    "            path_dict[neighbor] = path_edge\n",
    "            edge_set.update(path_edge)\n",
    "        edge_list = list(edge_set)\n",
    "\n",
    "        # Define the computational matrix h\n",
    "        h = np.zeros((len(support), len(edge_list)))\n",
    "        for node in support:\n",
    "            for edge in path_dict[node]:\n",
    "                h[support.index(node)][edge_list.index(edge)] = 1\n",
    "\n",
    "        # Define the measure\n",
    "        neighbor_mass_u = 1/len(u_neighbors)\n",
    "        neighbor_mass_v = 1/len(v_neighbors)\n",
    "        measure_u = np.zeros(len(support))\n",
    "        measure_v = np.zeros(len(support))\n",
    "        for node in support:\n",
    "            if node in u_neighbors:\n",
    "                measure_u[support.index(node)] = neighbor_mass_u\n",
    "            if node in v_neighbors:\n",
    "                measure_v[support.index(node)] = neighbor_mass_v\n",
    "\n",
    "        H_u = np.matmul(h.T, measure_u)\n",
    "        H_v = np.matmul(h.T, measure_v)\n",
    "\n",
    "        return np.linalg.norm((H_u - H_v), ord=1)\n",
    "\n",
    "    @functools.cache\n",
    "    def wasserstein_transport_1_hop(self, u, v):\n",
    "        # Get general neighborhood informations\n",
    "        u_neighbors = list(self.neighbors(u)) + [u]\n",
    "        v_neighbors = list(self.neighbors(v)) + [v]\n",
    "        deg_u = len(u_neighbors)\n",
    "        deg_v = len(v_neighbors)\n",
    "\n",
    "        # Define the measure\n",
    "        neighbor_mass_u = 1/deg_u\n",
    "        neighbor_mass_v = 1/deg_v\n",
    "        measure_u = np.ones(deg_u) * 1/deg_u\n",
    "        measure_v = np.ones(deg_v) * 1/deg_v\n",
    "        # measure_u = np.zeros(deg_u)\n",
    "        # measure_v = np.zeros(deg_v)\n",
    "        # for node in u_neighbors:\n",
    "        #     measure_u[u_neighbors.index(node)] = neighbor_mass_u\n",
    "        # for node in v_neighbors:\n",
    "        #     measure_v[v_neighbors.index(node)] = neighbor_mass_v\n",
    "        # print(deg_u, deg_v, measure_u, measure_v)\n",
    "        # print(np.sum(measure_u), np.sum(measure_v))\n",
    "\n",
    "        # Define the distance matrix\n",
    "        distance_matrix = np.full((deg_u, deg_v), np.inf)\n",
    "        for node_1 in u_neighbors:\n",
    "            for node_2 in v_neighbors:\n",
    "                index = (u_neighbors.index(node_1), v_neighbors.index(node_2))\n",
    "                if distance_matrix[index] == np.inf:\n",
    "                    distance_matrix[index], __ = self.get_dijkstra_path(node_1, node_2)\n",
    "        return ot.emd2(measure_u, measure_v, distance_matrix)"
   ]
  },
  {
   "cell_type": "code",
   "execution_count": 3,
   "metadata": {},
   "outputs": [],
   "source": [
    "def convert_graph(pyg_graph):\n",
    "    graph = to_networkx(pyg_graph.data)\n",
    "    return CalculationGraph(graph)"
   ]
  },
  {
   "cell_type": "markdown",
   "metadata": {
    "id": "UuPzbTznxzE4",
    "jp-MarkdownHeadingCollapsed": true
   },
   "source": [
    "# Examples"
   ]
  },
  {
   "cell_type": "code",
   "execution_count": 3,
   "metadata": {
    "id": "3vEk3ktcxltr"
   },
   "outputs": [],
   "source": [
    "from torch_geometric.datasets import KarateClub, Planetoid\n",
    "import pandas as pd\n",
    "import time"
   ]
  },
  {
   "cell_type": "code",
   "execution_count": 6,
   "metadata": {
    "colab": {
     "base_uri": "https://localhost:8080/"
    },
    "id": "GWrGI8Hfx95g",
    "outputId": "0ed645e8-b12b-43a5-de83-73147f112c0d"
   },
   "outputs": [
    {
     "name": "stderr",
     "output_type": "stream",
     "text": [
      "/home/khang/miniconda3/envs/borf/lib/python3.9/site-packages/torch_geometric/data/in_memory_dataset.py:300: UserWarning: It is not recommended to directly access the internal storage format `data` of an 'InMemoryDataset'. If you are absolutely certain what you are doing, access the internal storage via `InMemoryDataset._data` instead to suppress this warning. Alternatively, you can access stacked individual attributes of every graph via `dataset.{attr_name}`.\n",
      "  warnings.warn(msg)\n"
     ]
    }
   ],
   "source": [
    "karate_club_graph = to_networkx(KarateClub().data)\n",
    "karate_club_graph = CalculationGraph(karate_club_graph)"
   ]
  },
  {
   "cell_type": "code",
   "execution_count": 11,
   "metadata": {
    "colab": {
     "base_uri": "https://localhost:8080/",
     "height": 601
    },
    "id": "2AZ_tOrSyLph",
    "outputId": "28f4b021-1e7f-453a-b027-b7a660b2a937"
   },
   "outputs": [
    {
     "data": {
      "text/html": [
       "<div>\n",
       "<style scoped>\n",
       "    .dataframe tbody tr th:only-of-type {\n",
       "        vertical-align: middle;\n",
       "    }\n",
       "\n",
       "    .dataframe tbody tr th {\n",
       "        vertical-align: top;\n",
       "    }\n",
       "\n",
       "    .dataframe thead th {\n",
       "        text-align: right;\n",
       "    }\n",
       "</style>\n",
       "<table border=\"1\" class=\"dataframe\">\n",
       "  <thead>\n",
       "    <tr style=\"text-align: right;\">\n",
       "      <th></th>\n",
       "      <th>0</th>\n",
       "    </tr>\n",
       "  </thead>\n",
       "  <tbody>\n",
       "    <tr>\n",
       "      <th>count</th>\n",
       "      <td>7.800000e+01</td>\n",
       "    </tr>\n",
       "    <tr>\n",
       "      <th>mean</th>\n",
       "      <td>2.831867e-01</td>\n",
       "    </tr>\n",
       "    <tr>\n",
       "      <th>std</th>\n",
       "      <td>1.880369e-01</td>\n",
       "    </tr>\n",
       "    <tr>\n",
       "      <th>min</th>\n",
       "      <td>2.220446e-16</td>\n",
       "    </tr>\n",
       "    <tr>\n",
       "      <th>25%</th>\n",
       "      <td>1.428571e-01</td>\n",
       "    </tr>\n",
       "    <tr>\n",
       "      <th>50%</th>\n",
       "      <td>2.341880e-01</td>\n",
       "    </tr>\n",
       "    <tr>\n",
       "      <th>75%</th>\n",
       "      <td>4.375566e-01</td>\n",
       "    </tr>\n",
       "    <tr>\n",
       "      <th>max</th>\n",
       "      <td>9.166667e-01</td>\n",
       "    </tr>\n",
       "  </tbody>\n",
       "</table>\n",
       "</div>"
      ],
      "text/plain": [
       "                  0\n",
       "count  7.800000e+01\n",
       "mean   2.831867e-01\n",
       "std    1.880369e-01\n",
       "min    2.220446e-16\n",
       "25%    1.428571e-01\n",
       "50%    2.341880e-01\n",
       "75%    4.375566e-01\n",
       "max    9.166667e-01"
      ]
     },
     "execution_count": 11,
     "metadata": {},
     "output_type": "execute_result"
    }
   ],
   "source": [
    "all_diff = []\n",
    "try:\n",
    "    f = open('KarateClub_edge_list.txt', 'w')\n",
    "    for edge in karate_club_graph.edges:\n",
    "        # sobolev_distance = (test_graph.sobolev_transport_1_hop(*edge) + test_graph.sobolev_transport_1_hop(*edge[::-1]))/2\n",
    "        sobolev_distance = karate_club_graph.sobolev_transport_1_hop(*edge)\n",
    "        wasserstein_distance = karate_club_graph.wasserstein_transport_1_hop(*edge)\n",
    "        diff = abs(sobolev_distance - wasserstein_distance)\n",
    "        all_diff.append(diff)\n",
    "        f.write(f'{edge} {wasserstein_distance} {sobolev_distance} {diff} \\n')\n",
    "finally:\n",
    "    f.close()\n",
    "df_describe = pd.DataFrame(all_diff)\n",
    "df_describe.describe()"
   ]
  },
  {
   "cell_type": "code",
   "execution_count": 8,
   "metadata": {
    "colab": {
     "base_uri": "https://localhost:8080/"
    },
    "id": "g_aOHiye2l1B",
    "outputId": "3b5e287f-36cd-45ad-ad9e-19c765dd282e"
   },
   "outputs": [
    {
     "ename": "NameError",
     "evalue": "name 'NXGraph' is not defined",
     "output_type": "error",
     "traceback": [
      "\u001b[0;31m---------------------------------------------------------------------------\u001b[0m",
      "\u001b[0;31mNameError\u001b[0m                                 Traceback (most recent call last)",
      "Cell \u001b[0;32mIn[8], line 2\u001b[0m\n\u001b[1;32m      1\u001b[0m test_graph \u001b[38;5;241m=\u001b[39m Planetoid(root \u001b[38;5;241m=\u001b[39m \u001b[38;5;124m'\u001b[39m\u001b[38;5;124mdata\u001b[39m\u001b[38;5;124m'\u001b[39m, name \u001b[38;5;241m=\u001b[39m \u001b[38;5;124m'\u001b[39m\u001b[38;5;124mcora\u001b[39m\u001b[38;5;124m'\u001b[39m)\n\u001b[0;32m----> 2\u001b[0m test_graph \u001b[38;5;241m=\u001b[39m \u001b[43mNXGraph\u001b[49m(test_graph)\n\u001b[1;32m      3\u001b[0m test_graph\u001b[38;5;241m.\u001b[39mget_dijkstra_path\u001b[38;5;241m.\u001b[39mcache_clear()\n\u001b[1;32m      4\u001b[0m test_graph\u001b[38;5;241m.\u001b[39mwasserstein_transport_1_hop\u001b[38;5;241m.\u001b[39mcache_clear()\n",
      "\u001b[0;31mNameError\u001b[0m: name 'NXGraph' is not defined"
     ]
    }
   ],
   "source": [
    "test_graph = Planetoid(root = 'data', name = 'cora')\n",
    "test_graph = NXGraph(test_graph)\n",
    "test_graph.get_dijkstra_path.cache_clear()\n",
    "test_graph.wasserstein_transport_1_hop.cache_clear()\n",
    "try:\n",
    "    print('Testing: Sobolev_distance')\n",
    "    f = open('Cora_edge_list_sobolev.txt', 'a')\n",
    "    start_time = time.time()\n",
    "    for edge in test_graph.edges:\n",
    "        sobolev_distance = test_graph.sobolev_transport_1_hop(*edge)\n",
    "        f.write(f'{edge} {sobolev_distance} \\n')\n",
    "    end_time = time.time()\n",
    "    f.write(f'That took {end_time - start_time} to complete.')\n",
    "    print(f'That took {end_time - start_time} to complete.')\n",
    "finally:\n",
    "    f.close()\n",
    "\n",
    "test_graph.get_dijkstra_path.cache_clear()\n",
    "test_graph.wasserstein_transport_1_hop.cache_clear()\n",
    "try:\n",
    "    print('Testing: Wasserstein_distance')\n",
    "    f = open('Cora_edge_list_wasserstein.txt', 'a')\n",
    "    start_time = time.time()\n",
    "    for edge in test_graph.edges:\n",
    "        wasserstein_distance = test_graph.wasserstein_transport_1_hop(*edge)\n",
    "        f.write(f'{edge} {wasserstein_distance} \\n')\n",
    "    end_time = time.time()\n",
    "    f.write(f'That took {end_time - start_time} to complete.')\n",
    "    print(f'That took {end_time - start_time} to complete.')\n",
    "finally:\n",
    "    f.close()"
   ]
  },
  {
   "cell_type": "markdown",
   "metadata": {},
   "source": [
    "# Experiments"
   ]
  },
  {
   "cell_type": "markdown",
   "metadata": {},
   "source": [
    "## Compare the edge values between the two types of distances"
   ]
  },
  {
   "cell_type": "code",
   "execution_count": 4,
   "metadata": {},
   "outputs": [],
   "source": [
    "from torch_geometric.datasets import WebKB, WikipediaNetwork, Actor, Planetoid\n",
    "import pandas as pd\n",
    "import time"
   ]
  },
  {
   "cell_type": "code",
   "execution_count": 9,
   "metadata": {},
   "outputs": [],
   "source": [
    "cornell = WebKB(root=\"data\", name=\"Cornell\")\n",
    "wisconsin = WebKB(root=\"data\", name=\"Wisconsin\")\n",
    "texas = WebKB(root=\"data\", name=\"Texas\")\n",
    "# chameleon = WikipediaNetwork(root=\"data\", name=\"chameleon\")\n",
    "cora = Planetoid(root=\"data\", name=\"cora\")\n",
    "citeseer = Planetoid(root=\"data\", name=\"citeseer\")\n",
    "datasets = {\"cora\": cora, \"cornell\": cornell, \"wisconsin\": wisconsin, \"texas\": texas, \n",
    "        # \"chameleon\": chameleon,\n",
    "        \"citeseer\": citeseer}\n",
    "dist_types = {'sobolev', 'wasserstein', 'sobolev_average'}"
   ]
  },
  {
   "cell_type": "code",
   "execution_count": 10,
   "metadata": {},
   "outputs": [
    {
     "name": "stdout",
     "output_type": "stream",
     "text": [
      "Starting_cora_sobolev_average\n",
      "Completed_cora_sobolev_average_0m_-10s\n",
      "Starting_cora_wasserstein\n",
      "Completed_cora_sobolev_average_0m_-10s\n",
      "Starting_cora_sobolev\n",
      "Completed_cora_sobolev_average_0m_-10s\n",
      "Starting_cornell_sobolev_average\n",
      "Completed_cornell_sobolev_average_0m_0s\n",
      "Starting_cornell_wasserstein\n",
      "Completed_cornell_sobolev_average_0m_0s\n",
      "Starting_cornell_sobolev\n",
      "Completed_cornell_sobolev_average_0m_0s\n",
      "Starting_wisconsin_sobolev_average\n",
      "Completed_wisconsin_sobolev_average_0m_-1s\n",
      "Starting_wisconsin_wasserstein\n",
      "Completed_wisconsin_sobolev_average_0m_-1s\n",
      "Starting_wisconsin_sobolev\n",
      "Completed_wisconsin_sobolev_average_0m_-1s\n",
      "Starting_texas_sobolev_average\n",
      "Completed_texas_sobolev_average_0m_0s\n",
      "Starting_texas_wasserstein\n",
      "Completed_texas_sobolev_average_0m_0s\n",
      "Starting_texas_sobolev\n",
      "Completed_texas_sobolev_average_0m_0s\n",
      "Starting_citeseer_sobolev_average\n",
      "Completed_citeseer_sobolev_average_0m_-3s\n",
      "Starting_citeseer_wasserstein\n",
      "Completed_citeseer_sobolev_average_0m_-3s\n",
      "Starting_citeseer_sobolev\n",
      "Completed_citeseer_sobolev_average_0m_-3s\n"
     ]
    }
   ],
   "source": [
    "import warnings\n",
    "warnings.filterwarnings('ignore')\n",
    "for dataset in datasets:\n",
    "    for dist_type in dist_types:\n",
    "        try:\n",
    "            print(f\"Starting_{dataset}_{dist_type}\")\n",
    "            graph = convert_graph(datasets[dataset])\n",
    "            dist_list = []\n",
    "            start = time.time()\n",
    "            if dist_type == 'wasserstein':\n",
    "                for edge in graph.edges:\n",
    "                    dist_list.append(graph.wasserstein_transport_1_hop(*edge))\n",
    "            elif dist_type == 'sobolev':\n",
    "                for edge in graph.edges:\n",
    "                    dist_list.append(graph.sobolev_transport_1_hop(*edge))\n",
    "            elif dist_type == 'sobolev_average':\n",
    "                for edge in graph.edges:\n",
    "                    dist = (graph.sobolev_transport_1_hop(*edge) + graph.sobolev_transport_1_hop(*edge[::-1]))/2\n",
    "                    dist_list.append(dist)\n",
    "            for edge in graph.edges:\n",
    "                dist = (graph.sobolev_transport_1_hop(*edge) + graph.sobolev_transport_1_hop(*edge[::-1]))/2\n",
    "                dist_list.append(dist)\n",
    "            end = time.time()\n",
    "            elapsed = end-start\n",
    "            if elapsed >= 60:\n",
    "                minutes, seconds = divmod(elapsed, 60)\n",
    "            else:\n",
    "                minutes = 0\n",
    "                seconds = elapsed\n",
    "            d = {'edge': graph.edges, 'dist': dist_list}\n",
    "        except:\n",
    "            print(f\"Error_{dataset}_{dist_type}\")\n",
    "            continue\n",
    "        else:\n",
    "            df = pd.DataFrame(data = d).sort_values('dist')\n",
    "            df.to_csv(f\"dist_comparision/{dataset}_{dist_type}_{int(minutes)}m{int(seconds)}s\")\n",
    "            print(f\"Completed_{dataset}_{dist_type}_{int(minutes)}m_{int(seconds)}s\")"
   ]
  },
  {
   "cell_type": "code",
   "execution_count": 155,
   "metadata": {},
   "outputs": [],
   "source": [
    "graph = convert_graph(citeseer)"
   ]
  },
  {
   "cell_type": "code",
   "execution_count": 184,
   "metadata": {},
   "outputs": [
    {
     "data": {
      "image/png": "[encoded data removed]",
      "text/plain": [
       "<Figure size 640x480 with 1 Axes>"
      ]
     },
     "metadata": {},
     "output_type": "display_data"
    }
   ],
   "source": [
    "graph.visualize_edge((1422, 2435))"
   ]
  },
  {
   "cell_type": "markdown",
   "metadata": {},
   "source": [
    "## Run the GNN"
   ]
  },
  {
   "cell_type": "markdown",
   "metadata": {
    "id": "IgLBEc9Q8Ihc"
   },
   "source": [
    "# Thoughts\n",
    "\n",
    "It's still unclear how we might approach the problem of using the Sobolev transport to detect over-squashing.\n",
    "\n",
    "Interesting note: This paper [Tree! I am no Tree! I am a Low Dimensional\n",
    "Hyperbolic Embedding](https://proceedings.neurips.cc/paper/2020/file/093f65e080a295f8076b1c5722a46aa2-Paper.pdf) learn a tree that essentially preserves the distances amongst the data points and then embed\n",
    "this tree into hyperbolic space. What if we combine this paper and the Tree Wasserstein paper to produce something that operates on (hierachical) data."
   ]
  }
 ],
 "metadata": {
  "colab": {
   "provenance": []
  },
  "kernelspec": {
   "display_name": "Python 3 (ipykernel)",
   "language": "python",
   "name": "python3"
  },
  "language_info": {
   "codemirror_mode": {
    "name": "ipython",
    "version": 3
   },
   "file_extension": ".py",
   "mimetype": "text/x-python",
   "name": "python",
   "nbconvert_exporter": "python",
   "pygments_lexer": "ipython3",
   "version": "3.9.13"
  }
 },
 "nbformat": 4,
 "nbformat_minor": 4
}
