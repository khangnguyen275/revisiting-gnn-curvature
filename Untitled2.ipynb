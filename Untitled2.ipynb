{
 "cells": [
  {
   "cell_type": "code",
   "execution_count": 1,
   "id": "1c01356f-ed1e-4439-9f04-3b52fd7ff60a",
   "metadata": {},
   "outputs": [],
   "source": [
    "import pandas as pd\n",
    "import time\n",
    "from torch_geometric.datasets import KarateClub, Planetoid\n",
    "import torch\n",
    "import numpy as np\n",
    "import networkx as nx\n",
    "import functools\n",
    "from torch_geometric.utils import (\n",
    "    to_networkx,\n",
    "    from_networkx,\n",
    ")\n",
    "import ot"
   ]
  },
  {
   "cell_type": "code",
   "execution_count": 63,
   "id": "bd0a0edb-5ef3-43ea-9909-a9091a57cd5e",
   "metadata": {},
   "outputs": [],
   "source": [
    "class CalculationGraph(nx.Graph):\n",
    "    '''Graph class inherited from the NetworkX Graph class with extra methods for calculating curvature'''\n",
    "\n",
    "    def visualize_edge(self, edge):\n",
    "        # Get the local neighborhood\n",
    "        u, v = edge\n",
    "        local_neighbors = set()\n",
    "        local_neighbors = local_neighbors | set(self.neighbors(u)) | set(self.neighbors(v))\n",
    "\n",
    "        # Add points that form a pentagon with regard to the edge\n",
    "        pent_nodes = set()\n",
    "        seen_nodes = local_neighbors.copy()\n",
    "        for p in self.neighbors(u):\n",
    "            for q in self.neighbors(p):\n",
    "                if q in seen_nodes: \n",
    "                    continue\n",
    "                seen_nodes.add(q)\n",
    "                flag = False\n",
    "                for w in self.neighbors(v):\n",
    "                    if (q,w) in self.edges:\n",
    "                        flag = True\n",
    "                        continue\n",
    "                if flag:\n",
    "                    pent_nodes.add(q)\n",
    "        \n",
    "        # Draw the induced subgraph\n",
    "        local_neighborhood = local_neighbors | pent_nodes\n",
    "        local_neighborhood = self.subgraph(local_neighborhood)\n",
    "        nx.draw_networkx(local_neighborhood)\n",
    "    \n",
    "    @functools.cache\n",
    "    def get_dijkstra_path(self, u, v):\n",
    "        return nx.single_source_dijkstra(self, u, v)\n",
    "\n",
    "    def sobolev_transport_1_hop(self, u, v):\n",
    "        if (u,v) not in self.edges:\n",
    "            raise LookupError(f'There is no edge between nodes {edge[0]} and {edge[1]}')\n",
    "\n",
    "        u_neighbors = list(self.neighbors(u)) + [u]\n",
    "        v_neighbors = list(self.neighbors(v)) + [v]\n",
    "        support = list(set(u_neighbors + v_neighbors))\n",
    "\n",
    "        # Calculate shortest paths\n",
    "        path_dict = {}\n",
    "        edge_set = set()\n",
    "        for neighbor in support:\n",
    "            __, path_vertex = self.get_dijkstra_path(u, neighbor)\n",
    "            path_edge = [(path_vertex[i], path_vertex[i+1]) for i in range(len(path_vertex)-1)]\n",
    "            path_dict[neighbor] = path_edge\n",
    "            edge_set.update(path_edge)\n",
    "        edge_list = list(edge_set)\n",
    "\n",
    "        # Define the computational matrix h\n",
    "        h = np.zeros((len(support), len(edge_list)))\n",
    "        for node in support:\n",
    "            for edge in path_dict[node]:\n",
    "                h[support.index(node)][edge_list.index(edge)] = 1\n",
    "\n",
    "        # Define the measure\n",
    "        neighbor_mass_u = 1/len(u_neighbors)\n",
    "        neighbor_mass_v = 1/len(v_neighbors)\n",
    "        measure_u = np.zeros(len(support))\n",
    "        measure_v = np.zeros(len(support))\n",
    "        for node in support:\n",
    "            if node in u_neighbors:\n",
    "                measure_u[support.index(node)] = neighbor_mass_u\n",
    "            if node in v_neighbors:\n",
    "                measure_v[support.index(node)] = neighbor_mass_v\n",
    "\n",
    "        H_u = np.matmul(h.T, measure_u)\n",
    "        H_v = np.matmul(h.T, measure_v)\n",
    "\n",
    "        return np.linalg.norm((H_u - H_v), ord=1)\n",
    "\n",
    "    @functools.cache\n",
    "    def wasserstein_transport_1_hop(self, u, v):\n",
    "        # Get general neighborhood informations\n",
    "        u_neighbors = list(self.neighbors(u)) + [u]\n",
    "        v_neighbors = list(self.neighbors(v)) + [v]\n",
    "        deg_u = len(u_neighbors)\n",
    "        deg_v = len(v_neighbors)\n",
    "\n",
    "        # Define the measure\n",
    "        neighbor_mass_u = 1/deg_u\n",
    "        neighbor_mass_v = 1/deg_v\n",
    "        measure_u = np.zeros(deg_u)\n",
    "        measure_v = np.zeros(deg_v)\n",
    "        for node in u_neighbors:\n",
    "            measure_u[u_neighbors.index(node)] = neighbor_mass_u\n",
    "        for node in v_neighbors:\n",
    "            measure_v[v_neighbors.index(node)] = neighbor_mass_v\n",
    "\n",
    "        # Define the distance matrix\n",
    "        distance_matrix = np.full((deg_u, deg_v), np.inf)\n",
    "        for node_1 in u_neighbors:\n",
    "            for node_2 in v_neighbors:\n",
    "                index = (u_neighbors.index(node_1), v_neighbors.index(node_2))\n",
    "                if distance_matrix[index] == np.inf:\n",
    "                    distance_matrix[index], __ = self.get_dijkstra_path(node_1, node_2)\n",
    "        return ot.emd2(measure_u, measure_v, distance_matrix)"
   ]
  },
  {
   "cell_type": "code",
   "execution_count": 64,
   "id": "3a43770e-016f-490e-a220-8844e7817447",
   "metadata": {},
   "outputs": [],
   "source": [
    "karate_club_graph = KarateClub()\n",
    "networkx_graph = to_networkx(karate_club_graph.data)\n",
    "test = CalculationGraph(nx.to_networkx_graph(networkx_graph))"
   ]
  },
  {
   "cell_type": "code",
   "execution_count": 65,
   "id": "eb8aabd7-d46a-439e-8c2b-97142c8be9a0",
   "metadata": {},
   "outputs": [
    {
     "name": "stdout",
     "output_type": "stream",
     "text": [
      "(0, 1) 0.7999999999999998\n",
      "(0, 2) 1.2673796791443852\n",
      "(0, 3) 0.9495798319327732\n",
      "(0, 4) 1.2794117647058822\n",
      "(0, 5) 1.5294117647058827\n",
      "(0, 6) 1.5294117647058825\n",
      "(0, 7) 0.9529411764705883\n",
      "(0, 8) 1.3431372549019607\n",
      "(0, 10) 1.2794117647058825\n",
      "(0, 11) 1.3235294117647058\n",
      "(0, 12) 1.137254901960784\n",
      "(0, 13) 0.9019607843137255\n",
      "(0, 17) 1.0980392156862744\n",
      "(0, 19) 1.088235294117647\n",
      "(0, 21) 1.0980392156862746\n",
      "(0, 31) 1.7478991596638656\n",
      "(1, 2) 0.918181818181818\n",
      "(1, 3) 0.7142857142857142\n",
      "(1, 7) 0.7000000000000001\n",
      "(1, 13) 0.6000000000000001\n",
      "(1, 17) 0.9333333333333332\n",
      "(1, 19) 0.8999999999999999\n",
      "(1, 21) 0.9333333333333331\n",
      "(1, 30) 1.1\n",
      "(2, 3) 0.909090909090909\n",
      "(2, 7) 0.8\n",
      "(2, 8) 0.8636363636363636\n",
      "(2, 9) 1.0606060606060606\n",
      "(2, 13) 0.6818181818181819\n",
      "(2, 27) 1.2909090909090912\n",
      "(2, 28) 1.0454545454545454\n",
      "(2, 32) 1.426573426573426\n",
      "(3, 7) 0.34285714285714264\n",
      "(3, 12) 0.7619047619047616\n",
      "(3, 13) 0.6428571428571429\n",
      "(4, 6) 0.5499999999999999\n",
      "(4, 10) 0.25\n",
      "(5, 6) 0.2\n",
      "(5, 10) 0.5499999999999999\n",
      "(5, 16) 0.5333333333333332\n",
      "(6, 16) 0.5333333333333332\n",
      "(8, 30) 0.3999999999999999\n",
      "(8, 32) 1.0641025641025637\n",
      "(8, 33) 0.9999999999999999\n",
      "(9, 33) 1.2222222222222223\n",
      "(13, 33) 1.4999999999999998\n",
      "(14, 32) 1.0256410256410258\n",
      "(14, 33) 1.1111111111111112\n",
      "(15, 32) 1.0256410256410258\n",
      "(15, 33) 1.1111111111111112\n",
      "(18, 32) 1.0256410256410255\n",
      "(18, 33) 1.1111111111111112\n",
      "(19, 33) 1.4166666666666667\n",
      "(20, 32) 1.0256410256410255\n",
      "(20, 33) 1.1111111111111112\n",
      "(22, 32) 1.0256410256410255\n",
      "(22, 33) 1.1111111111111112\n",
      "(23, 25) 0.8333333333333331\n",
      "(23, 27) 0.6333333333333332\n",
      "(23, 29) 0.6666666666666666\n",
      "(23, 32) 1.1410256410256407\n",
      "(23, 33) 1.1666666666666663\n",
      "(24, 25) 0.25\n",
      "(24, 27) 0.7999999999999998\n",
      "(24, 31) 0.8928571428571427\n",
      "(25, 31) 0.7857142857142856\n",
      "(26, 29) 0.5333333333333332\n",
      "(26, 33) 1.2777777777777781\n",
      "(27, 33) 1.2777777777777777\n",
      "(28, 31) 0.75\n",
      "(28, 33) 1.1944444444444444\n",
      "(29, 32) 1.1384615384615384\n",
      "(29, 33) 1.1\n",
      "(30, 32) 1.1076923076923075\n",
      "(30, 33) 1.1555555555555557\n",
      "(31, 32) 1.3186813186813187\n",
      "(31, 33) 1.2460317460317458\n",
      "(32, 33) 0.5042735042735045\n"
     ]
    }
   ],
   "source": [
    "for edge in test.edges:\n",
    "    sobolev_distance = test.wasserstein_transport_1_hop(*edge)\n",
    "    print(edge, sobolev_distance)"
   ]
  },
  {
   "cell_type": "code",
   "execution_count": 66,
   "id": "29d80e01-4a30-4f82-a8df-f3ade66b9929",
   "metadata": {},
   "outputs": [
    {
     "ename": "NameError",
     "evalue": "name 'edge_list' is not defined",
     "output_type": "error",
     "traceback": [
      "\u001b[0;31m---------------------------------------------------------------------------\u001b[0m",
      "\u001b[0;31mNameError\u001b[0m                                 Traceback (most recent call last)",
      "Cell \u001b[0;32mIn[66], line 2\u001b[0m\n\u001b[1;32m      1\u001b[0m df \u001b[38;5;241m=\u001b[39m pd\u001b[38;5;241m.\u001b[39mDataFrame({\n\u001b[0;32m----> 2\u001b[0m     \u001b[38;5;124m'\u001b[39m\u001b[38;5;124medges\u001b[39m\u001b[38;5;124m'\u001b[39m : \u001b[43medge_list\u001b[49m,\n\u001b[1;32m      3\u001b[0m     \u001b[38;5;124m'\u001b[39m\u001b[38;5;124mcurvature\u001b[39m\u001b[38;5;124m'\u001b[39m: curvature_list\n\u001b[1;32m      4\u001b[0m })\n\u001b[1;32m      5\u001b[0m \u001b[38;5;66;03m# df.sort_values(by = ['curvature'])\u001b[39;00m\n\u001b[1;32m      6\u001b[0m \u001b[38;5;28mprint\u001b[39m(df\u001b[38;5;241m.\u001b[39mnlargest(n \u001b[38;5;241m=\u001b[39m \u001b[38;5;241m20\u001b[39m, columns \u001b[38;5;241m=\u001b[39m [\u001b[38;5;124m'\u001b[39m\u001b[38;5;124mcurvature\u001b[39m\u001b[38;5;124m'\u001b[39m]))\n",
      "\u001b[0;31mNameError\u001b[0m: name 'edge_list' is not defined"
     ]
    }
   ],
   "source": [
    "df = pd.DataFrame({\n",
    "    'edges' : edge_list,\n",
    "    'curvature': curvature_list\n",
    "})\n",
    "# df.sort_values(by = ['curvature'])\n",
    "print(df.nlargest(n = 20, columns = ['curvature']))\n",
    "print(df.nsmallest(n = 20, columns = ['curvature']))"
   ]
  },
  {
   "cell_type": "code",
   "execution_count": 67,
   "id": "57a74e7c-26a4-4f41-a8d4-26bd6e9a6762",
   "metadata": {},
   "outputs": [
    {
     "data": {
      "text/plain": [
       "True"
      ]
     },
     "execution_count": 67,
     "metadata": {},
     "output_type": "execute_result"
    }
   ],
   "source": [
    "(1,0) in test.edges"
   ]
  },
  {
   "cell_type": "code",
   "execution_count": 86,
   "id": "47810558-e8b4-4bb9-b260-32472115c6d0",
   "metadata": {},
   "outputs": [
    {
     "data": {
      "image/png": "[encoded data removed]",
      "text/plain": [
       "<Figure size 640x480 with 1 Axes>"
      ]
     },
     "metadata": {},
     "output_type": "display_data"
    }
   ],
   "source": [
    "test.visualize_edge((0,5))"
   ]
  },
  {
   "cell_type": "code",
   "execution_count": 69,
   "id": "e25edcb4-bf7e-4d36-9116-baaf11797414",
   "metadata": {},
   "outputs": [
    {
     "name": "stdout",
     "output_type": "stream",
     "text": [
      "{'apple', 'cherry', 'orange', 'banana'}\n",
      "{'apple', 'cherry', 'banana'}\n"
     ]
    }
   ],
   "source": [
    "fruits = {\"apple\", \"banana\", \"cherry\"}\n",
    "x = fruits.copy()\n",
    "x.add(\"orange\")\n",
    "print(x)\n",
    "print(fruits)"
   ]
  }
 ],
 "metadata": {
  "kernelspec": {
   "display_name": "Python 3 (ipykernel)",
   "language": "python",
   "name": "python3"
  },
  "language_info": {
   "codemirror_mode": {
    "name": "ipython",
    "version": 3
   },
   "file_extension": ".py",
   "mimetype": "text/x-python",
   "name": "python",
   "nbconvert_exporter": "python",
   "pygments_lexer": "ipython3",
   "version": "3.9.13"
  }
 },
 "nbformat": 4,
 "nbformat_minor": 5
}
