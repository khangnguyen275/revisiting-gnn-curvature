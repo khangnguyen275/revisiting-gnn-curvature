{
 "cells": [
  {
   "cell_type": "code",
   "execution_count": 1,
   "id": "7d66ae63-9f06-44c9-a348-74ef912aa65f",
   "metadata": {},
   "outputs": [],
   "source": [
    "import pandas as pd"
   ]
  },
  {
   "cell_type": "code",
   "execution_count": 2,
   "id": "1c318c09-5621-4a9c-9e8a-845be34e5baa",
   "metadata": {},
   "outputs": [
    {
     "ename": "ValueError",
     "evalue": "too many values to unpack (expected 3)",
     "output_type": "error",
     "traceback": [
      "\u001b[0;31m---------------------------------------------------------------------------\u001b[0m",
      "\u001b[0;31mValueError\u001b[0m                                Traceback (most recent call last)",
      "Cell \u001b[0;32mIn[2], line 8\u001b[0m\n\u001b[1;32m      6\u001b[0m \u001b[38;5;28;01mif\u001b[39;00m \u001b[38;5;129;01mnot\u001b[39;00m line:\n\u001b[1;32m      7\u001b[0m     \u001b[38;5;28;01mbreak\u001b[39;00m\n\u001b[0;32m----> 8\u001b[0m edge_1, edge_2, curvature \u001b[38;5;241m=\u001b[39m line\u001b[38;5;241m.\u001b[39msplit()\n\u001b[1;32m      9\u001b[0m edge \u001b[38;5;241m=\u001b[39m edge_1 \u001b[38;5;241m+\u001b[39m edge_2\n\u001b[1;32m     10\u001b[0m edge_list\u001b[38;5;241m.\u001b[39mappend(edge)\n",
      "\u001b[0;31mValueError\u001b[0m: too many values to unpack (expected 3)"
     ]
    }
   ],
   "source": [
    "f = open(\"preprocessing/Cora_edge_list_wasserstein.txt\", \"r\")\n",
    "edge_list = []\n",
    "curvature_list = []\n",
    "while True:\n",
    "    line = f.readline()\n",
    "    if not line:\n",
    "        break\n",
    "    edge_1, edge_2, curvature = line.split()\n",
    "    edge = edge_1 + edge_2\n",
    "    edge_list.append(edge)\n",
    "    curvature_list.append(float(curvature))"
   ]
  },
  {
   "cell_type": "code",
   "execution_count": 3,
   "id": "94729768-66d8-4ff7-a26a-953e1b8cf253",
   "metadata": {},
   "outputs": [
    {
     "name": "stdout",
     "output_type": "stream",
     "text": [
      "            edges  curvature\n",
      "5295   (1358,645)   2.727811\n",
      "2608   (645,1358)   2.727811\n",
      "1865   (454,1441)   2.625000\n",
      "5720   (1441,454)   2.625000\n",
      "2914     (733,94)   2.616667\n",
      "402      (94,733)   2.616667\n",
      "8398  (2034,1894)   2.604878\n",
      "7692  (1894,2034)   2.604878\n",
      "5875   (1483,306)   2.599890\n",
      "1252   (306,1483)   2.599890\n",
      "3948  (1013,2045)   2.589610\n",
      "8452  (2045,1013)   2.589610\n",
      "174      (48,598)   2.582353\n",
      "2430     (598,48)   2.582353\n",
      "9026   (2182,415)   2.572727\n",
      "1695   (415,2182)   2.572727\n",
      "7498  (1842,1013)   2.555844\n",
      "3938  (1013,1842)   2.555844\n",
      "8246  (2001,1986)   2.554367\n",
      "8188  (1986,2001)   2.554367\n",
      "          edges  curvature\n",
      "11     (3,2544)        0.0\n",
      "24      (7,208)        0.0\n",
      "28      (9,723)        0.0\n",
      "106   (31,1594)        0.0\n",
      "253   (66,2631)        0.0\n",
      "268   (70,2184)        0.0\n",
      "394   (92,1836)        0.0\n",
      "433   (97,1353)        0.0\n",
      "468  (106,2461)        0.0\n",
      "532   (117,259)        0.0\n",
      "533  (117,2537)        0.0\n",
      "652   (144,213)        0.0\n",
      "747  (165,1473)        0.0\n",
      "749  (165,2707)        0.0\n",
      "757  (168,2437)        0.0\n",
      "814   (183,997)        0.0\n",
      "816   (184,520)        0.0\n",
      "825  (187,1208)        0.0\n",
      "857   (199,420)        0.0\n",
      "859  (200,1439)        0.0\n"
     ]
    }
   ],
   "source": [
    "df = pd.DataFrame({\n",
    "    'edges' : edge_list,\n",
    "    'curvature': curvature_list\n",
    "})\n",
    "# df.sort_values(by = ['curvature'])\n",
    "print(df.nlargest(n = 20, columns = ['curvature']))\n",
    "print(df.nsmallest(n = 20, columns = ['curvature']))"
   ]
  },
  {
   "cell_type": "code",
   "execution_count": null,
   "id": "9286affb-d4cf-4fe5-8dde-cdf1b0179583",
   "metadata": {},
   "outputs": [],
   "source": []
  }
 ],
 "metadata": {
  "kernelspec": {
   "display_name": "Python 3 (ipykernel)",
   "language": "python",
   "name": "python3"
  },
  "language_info": {
   "codemirror_mode": {
    "name": "ipython",
    "version": 3
   },
   "file_extension": ".py",
   "mimetype": "text/x-python",
   "name": "python",
   "nbconvert_exporter": "python",
   "pygments_lexer": "ipython3",
   "version": "3.9.13"
  }
 },
 "nbformat": 4,
 "nbformat_minor": 5
}
